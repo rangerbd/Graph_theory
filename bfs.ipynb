{
 "cells": [
  {
   "cell_type": "code",
   "execution_count": 1,
   "metadata": {},
   "outputs": [],
   "source": [
    "import networkx as nx\n"
   ]
  },
  {
   "cell_type": "code",
   "execution_count": 2,
   "metadata": {},
   "outputs": [
    {
     "name": "stdout",
     "output_type": "stream",
     "text": [
      "this is BFS\n",
      "0 1 2 3 4 "
     ]
    }
   ],
   "source": [
    "graph = {\n",
    "    '0' :['1','2','3'],\n",
    "    '1' :[],\n",
    "    '2' :['4'],\n",
    "    '3' :[],\n",
    "    '4' :[]\n",
    "}\n",
    "\n",
    "visited = []\n",
    "queue = []\n",
    "\n",
    "def bfs(visited , graph , node):\n",
    "    visited.append(node)\n",
    "    queue.append(node)\n",
    "\n",
    "    while queue:\n",
    "        m = queue.pop(0)\n",
    "        print(m ,end=\" \")\n",
    "\n",
    "        for neighbours in graph[m]:\n",
    "            if neighbours not in visited:\n",
    "                visited.append(neighbours)\n",
    "                queue.append(neighbours)\n",
    "\n",
    "print(\"this is BFS\")\n",
    "bfs (visited,graph,'0')\n",
    "\n"
   ]
  }
 ],
 "metadata": {
  "kernelspec": {
   "display_name": "base",
   "language": "python",
   "name": "python3"
  },
  "language_info": {
   "codemirror_mode": {
    "name": "ipython",
    "version": 3
   },
   "file_extension": ".py",
   "mimetype": "text/x-python",
   "name": "python",
   "nbconvert_exporter": "python",
   "pygments_lexer": "ipython3",
   "version": "3.11.5"
  }
 },
 "nbformat": 4,
 "nbformat_minor": 2
}
